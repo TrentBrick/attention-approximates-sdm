{
 "cells": [
  {
   "cell_type": "markdown",
   "metadata": {},
   "source": [
    "## Summary \n",
    "\n",
    "Author: Trenton Bricken\n",
    "\n",
    "Parsing the Learnt Beta Key-Query Norm results."
   ]
  },
  {
   "cell_type": "code",
   "execution_count": 1,
   "metadata": {},
   "outputs": [
    {
     "name": "stderr",
     "output_type": "stream",
     "text": [
      "In /Users/trentonbricken/anaconda3/lib/python3.7/site-packages/matplotlib/mpl-data/stylelib/_classic_test.mplstyle: \n",
      "The text.latex.preview rcparam was deprecated in Matplotlib 3.3 and will be removed two minor releases later.\n",
      "In /Users/trentonbricken/anaconda3/lib/python3.7/site-packages/matplotlib/mpl-data/stylelib/_classic_test.mplstyle: \n",
      "The mathtext.fallback_to_cm rcparam was deprecated in Matplotlib 3.3 and will be removed two minor releases later.\n",
      "In /Users/trentonbricken/anaconda3/lib/python3.7/site-packages/matplotlib/mpl-data/stylelib/_classic_test.mplstyle: Support for setting the 'mathtext.fallback_to_cm' rcParam is deprecated since 3.3 and will be removed two minor releases later; use 'mathtext.fallback : 'cm' instead.\n",
      "In /Users/trentonbricken/anaconda3/lib/python3.7/site-packages/matplotlib/mpl-data/stylelib/_classic_test.mplstyle: \n",
      "The validate_bool_maybe_none function was deprecated in Matplotlib 3.3 and will be removed two minor releases later.\n",
      "In /Users/trentonbricken/anaconda3/lib/python3.7/site-packages/matplotlib/mpl-data/stylelib/_classic_test.mplstyle: \n",
      "The savefig.jpeg_quality rcparam was deprecated in Matplotlib 3.3 and will be removed two minor releases later.\n",
      "In /Users/trentonbricken/anaconda3/lib/python3.7/site-packages/matplotlib/mpl-data/stylelib/_classic_test.mplstyle: \n",
      "The keymap.all_axes rcparam was deprecated in Matplotlib 3.3 and will be removed two minor releases later.\n",
      "In /Users/trentonbricken/anaconda3/lib/python3.7/site-packages/matplotlib/mpl-data/stylelib/_classic_test.mplstyle: \n",
      "The animation.avconv_path rcparam was deprecated in Matplotlib 3.3 and will be removed two minor releases later.\n",
      "In /Users/trentonbricken/anaconda3/lib/python3.7/site-packages/matplotlib/mpl-data/stylelib/_classic_test.mplstyle: \n",
      "The animation.avconv_args rcparam was deprecated in Matplotlib 3.3 and will be removed two minor releases later.\n"
     ]
    }
   ],
   "source": [
    "import numpy as np\n",
    "import matplotlib.pyplot as plt\n",
    "from scipy.stats import binom, norm\n",
    "from scipy.sparse import csc_matrix, coo_matrix, csr_matrix\n",
    "import pandas as pd\n",
    "from scipy.integrate import quad\n",
    "import time"
   ]
  },
  {
   "cell_type": "code",
   "execution_count": 2,
   "metadata": {},
   "outputs": [],
   "source": [
    "f = open(\"KeyQuery_Norm_Learnt_Betas.txt\", \"r\")\n",
    "lines = f.readlines()\n",
    "vals = []\n",
    "for l in lines:\n",
    "    if 'tensor' in l:\n",
    "        vals.append( float(l.split('tensor(')[-1].split(',')[0]) )\n",
    "f.close()"
   ]
  },
  {
   "cell_type": "code",
   "execution_count": 3,
   "metadata": {},
   "outputs": [
    {
     "data": {
      "text/plain": [
       "[13.2098,\n",
       " 17.7457,\n",
       " 14.2207,\n",
       " 12.7949,\n",
       " 14.5659,\n",
       " 14.7724,\n",
       " 17.5814,\n",
       " 12.2229,\n",
       " 12.5165,\n",
       " 13.6765,\n",
       " 14.7659,\n",
       " 13.6766,\n",
       " 16.5105,\n",
       " 18.1264,\n",
       " 17.5156,\n",
       " 17.3248,\n",
       " 16.7748,\n",
       " 15.7745,\n",
       " 23.8495,\n",
       " 23.5828,\n",
       " 16.5298,\n",
       " 15.2339,\n",
       " 15.2119,\n",
       " 14.7259,\n",
       " 21.8811,\n",
       " 15.0111,\n",
       " 15.856,\n",
       " 18.1047,\n",
       " 17.8177,\n",
       " 16.9426,\n",
       " 16.8625,\n",
       " 18.6636,\n",
       " 20.1512,\n",
       " 18.6036,\n",
       " 17.8923,\n",
       " 17.3006,\n",
       " 17.544,\n",
       " 24.8478,\n",
       " 19.9285,\n",
       " 17.8327,\n",
       " 14.865,\n",
       " 15.7336,\n",
       " 15.9985,\n",
       " 16.352,\n",
       " 21.0183,\n",
       " 13.4864,\n",
       " 14.6378,\n",
       " 16.3881,\n",
       " 18.6723,\n",
       " 16.9726,\n",
       " 17.7232,\n",
       " 15.8936,\n",
       " 17.733,\n",
       " 19.6508,\n",
       " 20.6294,\n",
       " 19.9095,\n",
       " 19.2014,\n",
       " 18.6446,\n",
       " 17.4765,\n",
       " 16.8745,\n",
       " 10.7504,\n",
       " 11.5805,\n",
       " 12.3425,\n",
       " 12.6488,\n",
       " 11.7709,\n",
       " 11.6113,\n",
       " 11.8719,\n",
       " 12.0366,\n",
       " 12.798,\n",
       " 13.175,\n",
       " 13.3501,\n",
       " 13.4014,\n",
       " 10.3109,\n",
       " 14.4443,\n",
       " 13.7934,\n",
       " 12.8048,\n",
       " 10.879,\n",
       " 13.2211,\n",
       " 12.1344,\n",
       " 10.8995,\n",
       " 11.7884,\n",
       " 12.6769,\n",
       " 12.9696,\n",
       " 12.4675,\n",
       " 14.3417,\n",
       " 14.6746,\n",
       " 14.4706,\n",
       " 14.5393,\n",
       " 14.4444,\n",
       " 14.0697]"
      ]
     },
     "execution_count": 3,
     "metadata": {},
     "output_type": "execute_result"
    }
   ],
   "source": [
    "vals"
   ]
  },
  {
   "cell_type": "code",
   "execution_count": 4,
   "metadata": {},
   "outputs": [
    {
     "data": {
      "image/png": "[encoded data removed]",
      "text/plain": [
       "<Figure size 432x288 with 1 Axes>"
      ]
     },
     "metadata": {
      "needs_background": "light"
     },
     "output_type": "display_data"
    }
   ],
   "source": [
    "plt.hist(vals, bins =50)\n",
    "plt.axvline(10.1,  linestyle='dashed',label=r\"$\\beta_{CD}=10.1$\", color='red')\n",
    "plt.axvline(15.9,  linestyle='dashed',label=r\"$\\beta_{SNR}=15.9$\", color='red')\n",
    "plt.axvline(35.5,  linestyle='dashed',label=r\"$\\beta_{Mem}=35.5$\", color='red')\n",
    "plt.legend()\n",
    "plt.xlabel(r\"Learned $\\beta$ Coefficient\")\n",
    "plt.ylabel(\"Count\")\n",
    "plt.title(r\"Learned $\\beta$ Coefficients for all Attention Heads\"+ \"\\n\" +\"across different translation tasks.\")\n",
    "plt.gcf().savefig('figures/LearnedAttentionCoefficients.png', dpi=250)\n",
    "plt.show()"
   ]
  },
  {
   "cell_type": "code",
   "execution_count": null,
   "metadata": {},
   "outputs": [],
   "source": []
  }
 ],
 "metadata": {
  "kernelspec": {
   "display_name": "Python 3",
   "language": "python",
   "name": "python3"
  },
  "language_info": {
   "codemirror_mode": {
    "name": "ipython",
    "version": 3
   },
   "file_extension": ".py",
   "mimetype": "text/x-python",
   "name": "python",
   "nbconvert_exporter": "python",
   "pygments_lexer": "ipython3",
   "version": "3.7.5"
  }
 },
 "nbformat": 4,
 "nbformat_minor": 4
}
