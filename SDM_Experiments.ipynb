{
 "cells": [
  {
   "cell_type": "markdown",
   "metadata": {},
   "source": [
    "## Summary \n",
    "\n",
    "Author: Trenton Bricken\n",
    "\n",
    "Running all of the autoassociative SDM Experiments that don't involve learning the projection matrix for the Random Pattern and MNIST datasets. Uses Pytorch and has built in GPU compatibility to accelerate training. "
   ]
  },
  {
   "cell_type": "code",
   "execution_count": 1,
   "metadata": {},
   "outputs": [],
   "source": [
    "%load_ext autoreload\n",
    "%autoreload 2\n",
    "from Implementations_Associative_Memory import *\n",
    "from Data_Processing_Associative_Memory import *\n",
    "from SDM_Circ_Inter_Funcs import *\n",
    "import pickle\n",
    "import torch\n",
    "import torchvision\n",
    "import torchvision.transforms as transforms\n",
    "import matplotlib.pyplot as plt\n",
    "import numpy as np\n",
    "import scipy\n",
    "import torch.nn.functional as F\n",
    "import copy\n",
    "from types import SimpleNamespace\n",
    "#torch.cuda.set_device(3) "
   ]
  },
  {
   "cell_type": "code",
   "execution_count": 4,
   "metadata": {},
   "outputs": [
    {
     "name": "stdout",
     "output_type": "stream",
     "text": [
      "device is cpu\n"
     ]
    },
    {
     "data": {
      "text/plain": [
       "[0, 50, 100, 150, 200, 250, 300]"
      ]
     },
     "execution_count": 4,
     "metadata": {},
     "output_type": "execute_result"
    }
   ],
   "source": [
    "data_name = \"MNIST\" #\"MNIST\" \"RandUnif64\" \"RandUnif1000\"\n",
    "n_datasets = 3\n",
    "n_perturb_repeats = 5 # number of unique perturbations when testing each data point\n",
    "m=batch_size=1024 # this is the size of the dataset and also the batch size. Be careful if making m much larger. \n",
    "\n",
    "use_Neuron_SDM = False # will significantly reduce the number of neurons available.\n",
    "if use_Neuron_SDM:\n",
    "    assert data_name == \"RandUnif64\", \"Wrong dataname for using NeuronSDM\"\n",
    "\n",
    "directory = 'figures/PerturbResults/'\n",
    "num_workers = 4\n",
    "\n",
    "print_each_result = False\n",
    "rad = 1 # circle radius size. L2 unit norm. for continuous intersection\n",
    "device = torch.device(\"cuda\" if torch.cuda.is_available() else \"cpu\")\n",
    "n_perturbs = 7# number of perturbations to apply. \n",
    "max_conv_steps = 100 # for convergence of each query. \n",
    "\n",
    "'''\n",
    "# Full list of algorithms\n",
    "[Binary_Neuron_SDM, Binary_SDM, Binary_SDM_NeuronLimit,\n",
    "Binary_SDM_BFit_Attention,\n",
    "Cont_SDM, Cont_SDM_NeuronLimit, Cont_Binary_SDM, Cont_SDM_BFit_Attention, \n",
    "Cont_SDM_CFit_Attention, Hopfield]\n",
    "'''\n",
    "        \n",
    "\n",
    "if \"MNIST\" in data_name:\n",
    "    image_len = 28\n",
    "    # generate dataset\n",
    "    transform = transforms.Compose(\n",
    "            [transforms.ToTensor()])\n",
    "    trainset = torchvision.datasets.MNIST(root='./data', train=True,\n",
    "                                            download=True, transform=transform)\n",
    "\n",
    "    n = image_len**2\n",
    "    n_base = n\n",
    "    r = 2**64\n",
    "    max_perturb = 300\n",
    "    # only using the continuous algorithms\n",
    "    algorithms = [\"Cont_SDM\", \"Cont_SDM_NeuronLimit\", \n",
    "                 \"Cont_Binary_SDM\", \"Cont_SDM_BFit_Attention\", \n",
    "                 \"Cont_SDM_CFit_Attention\"]    \n",
    "    ensure_no_closer_images = False\n",
    "\n",
    "        \n",
    "elif \"RandUnif\" in data_name:\n",
    "    if \"64\" in data_name:\n",
    "        n=image_len=64\n",
    "        n_base = n\n",
    "        max_perturb = 12\n",
    "        r = 2**n\n",
    "        \n",
    "    elif \"1000\" in data_name: \n",
    "        n=image_len=1000\n",
    "        n_base = n\n",
    "        max_perturb = 375\n",
    "        r = 1000000\n",
    "        \n",
    "    # generate dataset\n",
    "    \n",
    "    trainset = torch.Tensor(np.random.uniform(-1,1,(m*n_datasets,n)))\n",
    "\n",
    "    # using binary and continuous algorithms\n",
    "    algorithms = [\"Binary_SDM\", \"Binary_SDM_NeuronLimit\",\n",
    "                 \"Binary_SDM_BFit_Attention\", \"Cont_SDM\", \"Cont_SDM_NeuronLimit\", \n",
    "                 \"Cont_Binary_SDM\", \"Cont_SDM_BFit_Attention\", \n",
    "                 \"Cont_SDM_CFit_Attention\"]   \n",
    "    ensure_no_closer_images = True\n",
    "    \n",
    "else: \n",
    "    raise Exception(\"Dataset not recognized!\")\n",
    "    \n",
    "    \n",
    "trainloader = torch.utils.data.DataLoader(trainset, batch_size=batch_size,\n",
    "                                          shuffle=True, num_workers=num_workers)\n",
    "\n",
    "sdm_params = dict(\n",
    "    n=n, \n",
    "    n_base = n_base, # used as the base dimension, \n",
    "    # n refers to the latent space that SDM operates in\n",
    "    r=r, \n",
    "    m=m, \n",
    "    batch_size = batch_size,\n",
    "    hamm_radius=None, \n",
    "    epsilon = 0.05,\n",
    "    max_conv_steps=max_conv_steps, \n",
    "    image_len=image_len, \n",
    "    print_each_result=print_each_result,\n",
    "    cont_cache_resolution = 10000,\n",
    "    ensure_no_closer_images = ensure_no_closer_images,\n",
    "    device=device,\n",
    "    binary_data = False,\n",
    "    renorm_cont_queries = True,\n",
    "    fix_perturb=True,\n",
    ")\n",
    "\n",
    "sdm_params = SimpleNamespace(**sdm_params)\n",
    "\n",
    "# wide range of circle fractions that cover all attention optimal d*s and then some. \n",
    "cfracs = [0.0000000000001, 0.000000001, 0.00000001,0.000007, 0.000368, 0.1]\n",
    "hamm_radii = space_frac_to_hamm_radius(n,cfracs)\n",
    "\n",
    "if use_Neuron_SDM: # drop parameters by an order of magnitude\n",
    "    assert data_name == \"RandUnif64\", \"To use neuronSDM need to have the datatype set to RandUnif64!\" \n",
    "    r = 100000\n",
    "    sdm_params.r = r\n",
    "    algorithms = [\"Binary_SDM_NeuronLimit\", \"Binary_Neuron_SDM\"]\n",
    "print(\"device is\", device)\n",
    "perturb_hamms = list(np.unique(np.linspace(0,max_perturb,n_perturbs).astype(int)))\n",
    "perturb_hamms"
   ]
  },
  {
   "cell_type": "code",
   "execution_count": null,
   "metadata": {},
   "outputs": [
    {
     "name": "stdout",
     "output_type": "stream",
     "text": [
      "=== Data iteration: 0\n"
     ]
    },
    {
     "name": "stderr",
     "output_type": "stream",
     "text": [
      "/home/trenton/SDM/SDM_Circ_Inter_Funcs.py:257: RuntimeWarning: divide by zero encountered in log\n",
      "  expected_intersect = np.log(intersect)+np.log(perc_addresses_w_neurons)\n"
     ]
    },
    {
     "name": "stdout",
     "output_type": "stream",
     "text": [
      "At least one perturbed binary query is no longer the closest. Re-generating dataset\n",
      "=== Data iteration: 1\n"
     ]
    }
   ],
   "source": [
    "neuron_vals = [r]\n",
    "pert_res = {k:[] for k in perturb_hamms}\n",
    "neuron_res_n_perturb_repeats = {k:copy.deepcopy(pert_res) for k in neuron_vals}\n",
    "hamm_res_n_perturb_repeats = {k:copy.deepcopy(neuron_res_n_perturb_repeats) for k in hamm_radii}\n",
    "cos_res = {k:copy.deepcopy(hamm_res_n_perturb_repeats) for k in algorithms}\n",
    "print_each_iteration = False\n",
    "# reshape into vector columns and L2 norm\n",
    "dataiter = iter(trainloader)\n",
    "for data_ind in range(n_datasets):\n",
    "    print(\"=== Data iteration:\", data_ind)\n",
    "    patterns = dataiter.next()\n",
    "    if data_name==\"MNIST\": # get rid of the labels\n",
    "        patterns = patterns[0] \n",
    "    patterns = patterns.flatten(start_dim=1).T.to(device) \n",
    "    if \"RandUnif\" in data_name:\n",
    "        # make a binary version of the patterns\n",
    "        b_patterns = (patterns>0.0).type(torch.int)\n",
    "    else:\n",
    "        b_patterns = None # MNIST is not working with binary patterns. \n",
    "    c_patterns = patterns/torch.norm(patterns, dim=0, keepdim=True)\n",
    "\n",
    "    for perturb in perturb_hamms:\n",
    "        if print_each_iteration:\n",
    "            print(\"Perturb dist\",perturb)\n",
    "        sdm_params.perturb=perturb\n",
    "        # redo different perturbations this number of times\n",
    "        for rep_ind in range(n_perturb_repeats):\n",
    "            \n",
    "            # making perturbations here to be able to apply the same ones to every \n",
    "            # algorithm\n",
    "            \n",
    "            if data_name==\"MNIST\":\n",
    "                # we dont have binary perturbations here. \n",
    "                c_queries, _ = cosine_perturb_queries(c_patterns, c_patterns, sdm_params) \n",
    "\n",
    "            else: \n",
    "                b_queries, c_queries = perturb_queries(b_patterns, b_patterns, \n",
    "                                                                   c_patterns, c_patterns, \n",
    "                                                                   sdm_params)\n",
    "\n",
    "            for hamm_radius in hamm_radii:\n",
    "                if print_each_iteration:\n",
    "                    print(\"Hamming radius\", hamm_radius)\n",
    "                sdm_params.hamm_radius = hamm_radius\n",
    "\n",
    "                b_cached_inters, log_c_cached_inters = get_binary_and_continuous_caches(n, hamm_radius, r, \n",
    "                                                                                    sdm_params.cont_cache_resolution)\n",
    "                b_cached_inters = torch.Tensor(b_cached_inters).to(device)\n",
    "                log_c_cached_inters = torch.Tensor(log_c_cached_inters.astype(float)).to(device)\n",
    "\n",
    "                for algo in algorithms:\n",
    "                    if print_each_iteration:\n",
    "                        print(algo)\n",
    "                    v_type =algo.split(\"_\")[0]\n",
    "                    assert v_type == \"Binary\" or v_type==\"Cont\", \"Algo name not recognized as binary or continuous\"\n",
    "                    binary_data = True if v_type==\"Binary\" else False \n",
    "                    use_binary_intersect = True if binary_data else False\n",
    "                    if algo ==\"Cont_Binary_SDM\":\n",
    "                        use_binary_intersect = True # overrriding this. \n",
    "                    sdm_params.binary_data = binary_data\n",
    "                    # check if the circle intersection is not non zero.\n",
    "                    \n",
    "                    '''should_continue=check_caches_work_for_num_neurons(r, hamm_radius, use_binary_intersect, \n",
    "                                                                      b_cached_inters, log_c_cached_inters)\n",
    "                    \n",
    "                    if should_continue == 'continue':\n",
    "                        continue\n",
    "                    '''\n",
    "\n",
    "                    input_queries = b_queries if binary_data else c_queries\n",
    "                    input_patterns = b_patterns if binary_data else c_patterns\n",
    "                    test_patterns = torch.clone(input_patterns)\n",
    "                    input_cache = b_cached_inters if use_binary_intersect else log_c_cached_inters\n",
    "\n",
    "                    #print(input_patterns[:,0], b_queries[:,0])\n",
    "                    \n",
    "                    if \"Attention\" in algo:\n",
    "                        if \"CFit\" in algo:\n",
    "                            cont_circle_intersect = True\n",
    "                        elif \"BFit\" in algo: \n",
    "                            cont_circle_intersect = False\n",
    "                        else: \n",
    "                            raise Exception(\"Attention but neither B or C fit in the Attention function name.\")\n",
    "                        beta = fit_beta(sdm_params.n, sdm_params.r, sdm_params.hamm_radius, cont_circle_intersect, plot=False)\n",
    "                    else: \n",
    "                        beta = None\n",
    "\n",
    "                    #print(\"input cache\", input_cache)\n",
    "                    converged_queries = torch_run_algo(algo, sdm_params, input_queries, \n",
    "                                                       input_patterns, input_patterns, input_cache, beta,\n",
    "                                                       W_k=None)\n",
    "\n",
    "                    if binary_data:\n",
    "                        cosine_sims = hamm_to_cosine( (converged_queries!=test_patterns).sum(0), n_base ).cpu().detach().numpy()\n",
    "                    else:\n",
    "                        cosine_sims = torch_cosine_sims(converged_queries ,test_patterns)\n",
    "                    cos_res[algo][hamm_radius][r][perturb].append(np.asarray(cosine_sims))\n",
    "                    \n",
    "with open(data_name+\"|n=\"+str(n)+\"useNeuronSDM\"+str(use_Neuron_SDM)+\"not_training_projection_runs.pkl\", 'wb') as fname: \n",
    "    pickle.dump(cos_res, fname)"
   ]
  },
  {
   "cell_type": "code",
   "execution_count": 6,
   "metadata": {},
   "outputs": [],
   "source": [
    "load_res = False\n",
    "if load_res:\n",
    "    with open(data_name+\"|n=\"+str(n)+\"useNeuronSDM\"+str(use_Neuron_SDM)+\"not_training_projection_runs.pkl\", 'rb') as fname: \n",
    "        cos_res = pickle.load(fname)"
   ]
  },
  {
   "cell_type": "code",
   "execution_count": 6,
   "metadata": {},
   "outputs": [
    {
     "name": "stdout",
     "output_type": "stream",
     "text": [
      "5 [-0.0016174316, -0.0016174316, -0.0016174316, -0.0016174316, -0.0016174316, -0.0016174316, -0.0016174316]\n",
      "[0.12309954, 0.12309954, 0.12309954, 0.12309954, 0.12309954, 0.12309954, 0.12309954]\n",
      "-----\n",
      "9 [-0.0016174316, -0.0016174316, -0.0016174316, -0.0016174316, -0.0016174316, -0.0016174316, -0.0016174316]\n",
      "[0.12309954, 0.12309954, 0.12309954, 0.12309954, 0.12309954, 0.12309954, 0.12309954]\n",
      "-----\n",
      "11 [-0.0016174316, -0.0016174316, -0.0016174316, -0.0016174316, -0.0016174316, -0.0016174316, -0.0016174316]\n",
      "[0.12309954, 0.12309954, 0.12309954, 0.12309954, 0.12309954, 0.12309954, 0.12309954]\n",
      "-----\n",
      "15 [0.34069824, 0.19207968, 0.10946452, 0.058961995, 0.037060548, 0.021836344, 0.011665853]\n",
      "[0.47891745, 0.40634993, 0.33274832, 0.26570398, 0.22339274, 0.19051048, 0.16517046]\n",
      "-----\n",
      "19 [1.0, 1.0, 1.0, 1.0, 1.0, 0.9998657, 0.9955221]\n",
      "[0.0, 0.0, 0.0, 0.0, 0.0, 0.007916449, 0.05700181]\n",
      "-----\n",
      "27 [0.8652466, 0.80853474, 0.7526998, 0.69822186, 0.64414877, 0.590625, 0.5361715]\n",
      "[0.07111975, 0.07181894, 0.073058516, 0.07274522, 0.07408358, 0.07389784, 0.074246176]\n",
      "-----\n"
     ]
    },
    {
     "data": {
      "image/png": "[encoded data removed]",
      "text/plain": [
       "<Figure size 432x288 with 1 Axes>"
      ]
     },
     "metadata": {
      "needs_background": "light"
     },
     "output_type": "display_data"
    },
    {
     "name": "stdout",
     "output_type": "stream",
     "text": [
      "5 [-0.0016174316, -0.0016174316, -0.0016174316, -0.0016174316, -0.0016174316, -0.0016174316, -0.0016174316]\n",
      "[0.12309954, 0.12309954, 0.12309954, 0.12309954, 0.12309954, 0.12309954, 0.12309954]\n",
      "-----\n",
      "9 [-0.0015604655, -0.0016174316, -0.0016174316, -0.0016174316, -0.0016174316, -0.0016174316, -0.0016174316]\n",
      "[0.12336029, 0.12309954, 0.12309954, 0.12309954, 0.12309954, 0.12309954, 0.12309954]\n",
      "-----\n",
      "11 [0.0042195637, 2.6448568e-05, -0.0012044271, -0.0012207031, -0.0016174316, -0.0016174316, -0.0015563965]\n",
      "[0.1441167, 0.12947048, 0.12466364, 0.124633394, 0.12309954, 0.12309954, 0.123363435]\n",
      "-----\n",
      "15 [0.7040182, 0.41800943, 0.26438192, 0.1618632, 0.096921794, 0.057775877, 0.03189087]\n",
      "[0.46155939, 0.5003514, 0.45226982, 0.385442, 0.31700113, 0.26034614, 0.21201897]\n",
      "-----\n",
      "19 [1.0, 0.99997556, 0.99984336, 0.99863076, 0.9894226, 0.944985, 0.8300822]\n",
      "[0.0, 0.0010694921, 0.0033698622, 0.017424664, 0.05924833, 0.14894928, 0.2554328]\n",
      "-----\n",
      "27 [0.864679, 0.80704755, 0.7513936, 0.6964925, 0.6428528, 0.5897237, 0.5352376]\n",
      "[0.0714443, 0.07224908, 0.07347336, 0.0732661, 0.07473348, 0.07461348, 0.074380435]\n",
      "-----\n"
     ]
    },
    {
     "data": {
      "image/png": "[encoded data removed]",
      "text/plain": [
       "<Figure size 432x288 with 1 Axes>"
      ]
     },
     "metadata": {
      "needs_background": "light"
     },
     "output_type": "display_data"
    }
   ],
   "source": [
    "for algo, algo_res in cos_res.items():\n",
    "    # each is a dictionary i need to homogenize. \n",
    "    for nneurons in [r]:\n",
    "        for h_radius in np.sort(hamm_radii):\n",
    "            res = algo_res[h_radius][nneurons]\n",
    "            mu_agg = []\n",
    "            std_agg = []\n",
    "            # need to aggregate across these. \n",
    "            for pert in perturb_hamms: \n",
    "                all_res_for_this_pert = np.asarray(res[pert])\n",
    "                #plt.hist(all_res_for_this_pert.flatten(), bins=50)\n",
    "                #plt.show()\n",
    "                mu, std = all_res_for_this_pert.mean(), all_res_for_this_pert.std()\n",
    "                mu_agg.append(mu)\n",
    "                std_agg.append(std)\n",
    "                \n",
    "            print(h_radius, mu_agg)\n",
    "            print(std_agg)\n",
    "            print('-----')\n",
    "                \n",
    "            plt.errorbar(perturb_hamms, mu_agg, yerr=std_agg,capsize=2, label='$d$='+str(h_radius))\n",
    "\n",
    "        plt.scatter(perturb_hamms, hamm_to_cosine(np.asarray(perturb_hamms), n), label='Baselines')\n",
    "\n",
    "        if nneurons is None or nneurons == \"None\": \n",
    "            neuron_label = 'Infinite'\n",
    "        else:\n",
    "            #print(float(nneurons))\n",
    "            neuron_label = '$r$='+\"{:.0e}\".format(nneurons)\n",
    "        printm= len(trainset) if m is None else m\n",
    "        \n",
    "        plt.title(\"Cosine Similarity across Perturbations\"+\" | Dataset: \"+data_name+\"\\n\"+\"Algo: \"+algo+\" | \"+neuron_label+\" | $m=$\"+str(printm))\n",
    "        plt.legend()\n",
    "        plt.xlabel(\"Perturbation\")\n",
    "        plt.ylabel(\"Cosine Similarity\")\n",
    "        save_str = \"Dataset=\"+data_name+\"|UseCosSim\"+str(True)+\"m=\"+str(m)+\"r=\"+str(r)+\"Algo=\"+algo+\"|NumNeuron=\"+neuron_label\n",
    "        plt.tight_layout()\n",
    "        plt.gcf().savefig(directory+save_str+'.png', dpi=250)\n",
    "        plt.show()\n"
   ]
  },
  {
   "cell_type": "markdown",
   "metadata": {},
   "source": [
    "# Comparing pairwise distances between vectors in the binary and continuous spaces\n",
    "\n",
    "For Random Uniform these pairwise distances are very close to each other making comparisons between the algorithms meaningful. This is not the case for MNIST so we only consider its natural continuous settings. "
   ]
  },
  {
   "cell_type": "code",
   "execution_count": 3,
   "metadata": {},
   "outputs": [],
   "source": [
    "\n",
    "\n",
    "data_name = \"RandUnif64\" #\"MNIST\" \"RandUnif64\" \"RandUnif1000\"\n",
    "m=batch_size=1024 # this is the size of the dataset and also the batch size. Be careful if making m much larger. \n",
    "\n",
    "if \"MNIST\" in data_name:\n",
    "    image_len = 28\n",
    "    # generate dataset\n",
    "    transform = transforms.Compose(\n",
    "            [transforms.ToTensor()])\n",
    "    trainset = torchvision.datasets.MNIST(root='./data', train=True,\n",
    "                                            download=True, transform=transform)\n",
    "\n",
    "    n = image_len**2\n",
    "    n_base = n\n",
    "        \n",
    "elif \"RandUnif\" in data_name:\n",
    "    if \"64\" in data_name:\n",
    "        n=image_len=64\n",
    "        n_base = n\n",
    "        max_perturb = 12\n",
    "        r = 2**n\n",
    "        \n",
    "    elif \"1000\" in data_name: \n",
    "        n=image_len=1000\n",
    "        n_base = n\n",
    "        max_perturb = 375\n",
    "        r = 1000000\n",
    "    \n",
    "    trainset = torch.Tensor(np.random.uniform(-1,1,(m*n_datasets,n)))\n",
    "\n",
    "    \n",
    "else: \n",
    "    raise Exception(\"Dataset not recognized!\")\n",
    "    \n",
    "    \n",
    "trainloader = torch.utils.data.DataLoader(trainset, batch_size=batch_size,\n",
    "                                          shuffle=True, num_workers=num_workers)\n",
    "\n",
    "\n",
    "dataiter = iter(trainloader)\n",
    "patterns = dataiter.next()\n",
    "if data_name==\"MNIST\": # get rid of the labels\n",
    "    patterns = patterns[0] \n",
    "patterns = patterns.flatten(start_dim=1).T.to(device) \n",
    "# make a binary version of the patterns\n",
    "b_patterns = (patterns>0.0).type(torch.int)\n",
    "c_patterns = patterns/torch.norm(patterns, dim=0, keepdim=True)"
   ]
  },
  {
   "cell_type": "code",
   "execution_count": 6,
   "metadata": {},
   "outputs": [
    {
     "data": {
      "image/png": "[encoded data removed]",
      "text/plain": [
       "<Figure size 432x288 with 1 Axes>"
      ]
     },
     "metadata": {
      "needs_background": "light"
     },
     "output_type": "display_data"
    },
    {
     "data": {
      "image/png": "[encoded data removed]",
      "text/plain": [
       "<Figure size 432x288 with 1 Axes>"
      ]
     },
     "metadata": {
      "needs_background": "light"
     },
     "output_type": "display_data"
    },
    {
     "data": {
      "image/png": "[encoded data removed]",
      "text/plain": [
       "<Figure size 432x288 with 1 Axes>"
      ]
     },
     "metadata": {
      "needs_background": "light"
     },
     "output_type": "display_data"
    },
    {
     "data": {
      "image/png": "[encoded data removed]",
      "text/plain": [
       "<Figure size 432x288 with 1 Axes>"
      ]
     },
     "metadata": {
      "needs_background": "light"
     },
     "output_type": "display_data"
    },
    {
     "data": {
      "image/png": "[encoded data removed]",
      "text/plain": [
       "<Figure size 432x288 with 1 Axes>"
      ]
     },
     "metadata": {
      "needs_background": "light"
     },
     "output_type": "display_data"
    }
   ],
   "source": [
    "for ind in range(5):\n",
    "    d_v = torch_hamm_dist(b_patterns[:,ind].unsqueeze(1), b_patterns).cpu().numpy()\n",
    "    c_v = (c_patterns.T@c_patterns[:,ind]).cpu().numpy()\n",
    "    plt.hist( c_v ,bins=50, label='cosine', alpha=0.5)\n",
    "    plt.hist( hamm_to_cosine(d_v, n) ,bins=50, label='hamm', alpha=0.5)\n",
    "    plt.title(\"Rand. Ind=\"+str(ind)+' Continuous vs Binary vector distances (converted to cosine similarity) | '+data_name)\n",
    "    plt.legend()\n",
    "    plt.xlabel(\"Cosine Similarities\")\n",
    "    plt.show()"
   ]
  },
  {
   "cell_type": "code",
   "execution_count": null,
   "metadata": {},
   "outputs": [],
   "source": []
  },
  {
   "cell_type": "code",
   "execution_count": null,
   "metadata": {},
   "outputs": [],
   "source": []
  },
  {
   "cell_type": "code",
   "execution_count": null,
   "metadata": {},
   "outputs": [],
   "source": []
  },
  {
   "cell_type": "code",
   "execution_count": null,
   "metadata": {},
   "outputs": [],
   "source": []
  },
  {
   "cell_type": "code",
   "execution_count": null,
   "metadata": {},
   "outputs": [],
   "source": []
  },
  {
   "cell_type": "markdown",
   "metadata": {},
   "source": [
    "# Debugging scripts"
   ]
  },
  {
   "cell_type": "code",
   "execution_count": null,
   "metadata": {},
   "outputs": [],
   "source": []
  },
  {
   "cell_type": "code",
   "execution_count": 57,
   "metadata": {},
   "outputs": [],
   "source": [
    "from SDM_Circ_Inter_Funcs import space_frac_to_hamm_radius\n",
    "def generate_dataset(pattern_dataset, n, m, max_perturb, cfracs, n_repeats, n_perturbs=6):\n",
    "    \n",
    "    target_patterns, ham_dist_queries, cosine_dist_queries = [], [], []\n",
    "    cosine_perturb_amounts = []\n",
    "    \n",
    "    # hamming write distance to use\n",
    "    \n",
    "    h_dists = space_frac_to_hamm_radius(n,cfracs)\n",
    "\n",
    "    if pattern_dataset == \"MNIST\": \n",
    "        image = True\n",
    "        image_len = 28\n",
    "        \n",
    "        transform = transforms.Compose(\n",
    "            [transforms.ToTensor(), \n",
    "             #transforms.Normalize((0.5,), (0.5,))\n",
    "            ])\n",
    "        trainset = torchvision.datasets.MNIST(root='./data', train=True,\n",
    "                                                download=True, transform=transform)\n",
    "\n",
    "        trainloader = torch.utils.data.DataLoader(trainset, batch_size=m,\n",
    "                                                      shuffle=True, num_workers=0)\n",
    "\n",
    "        dataiter = iter(trainloader)\n",
    "        raw_patterns_flat, y_labels = dataiter.next()\n",
    "        raw_patterns_flat, y_labels = raw_patterns_flat.numpy(), y_labels.numpy()\n",
    "        print('mnist shape', raw_patterns_flat.shape)\n",
    "        raw_patterns_flat = raw_patterns_flat.reshape(raw_patterns_flat.shape[0], -1).T\n",
    "        n = raw_patterns_flat.shape[0]\n",
    "        if n_perturbs==1:\n",
    "            perturb_hamms = [max_perturb]\n",
    "        else: \n",
    "            perturb_hamms = list(np.unique(np.linspace(0,max_perturb,n_perturbs).astype(int)))\n",
    "        # how much to perturb by in terms of hamming distance. \n",
    "        #print(perturb_hamms)\n",
    "        check_if_target_still_closest = False\n",
    "        # used to keep track of the distances and plot how correlated the space is\n",
    "        target_dist = []\n",
    "        closest_dist = []\n",
    "        same_pattern_class = []\n",
    "    \n",
    "    elif pattern_dataset == \"RandUnif\":\n",
    "        image=False \n",
    "        image_len = None\n",
    "        # random uniform dist patterns. \n",
    "\n",
    "        perturb_hamms = list(set(np.linspace(0,max_perturb,n_perturbs).astype(int))) # how much to perturb by in terms of hamming distance. \n",
    "        #perturb_hamms += [190, 195, 200, 210]\n",
    "        #perturb_hamms = list(np.linspace(0,4500,12).astype(int))\n",
    "        #perturb_hamms = [3000]\n",
    "\n",
    "        perturb_hamms = np.sort(perturb_hamms)\n",
    "        check_if_target_still_closest = True \n",
    "        raw_patterns_flat = np.random.uniform(-1,1,(n,m))\n",
    "        \n",
    "        target_dist = None\n",
    "        closest_dist = None\n",
    "        same_pattern_class = None\n",
    "    # vector norm all of the patterns. \n",
    "    raw_patterns_flat = raw_patterns_flat/ np.linalg.norm(raw_patterns_flat, axis=0)\n",
    "    \n",
    "    print('perturbations are:', perturb_hamms)\n",
    "    # doing binary perturbations here\n",
    "    for perturb in perturb_hamms:\n",
    "        for i in range(n_repeats):\n",
    "\n",
    "            # pick a pattern, perturb it by a given hamming distance from this pattern. \n",
    "            # ensure it is still the best match. \n",
    "            # see if it converges. \n",
    "            # may need to increase the number of iterations!\n",
    "            target_pattern_ind = np.random.choice(m,1)[0]\n",
    "            target_pattern = raw_patterns_flat[:, target_pattern_ind ].reshape(-1,1)\n",
    "            \n",
    "            ####### Hamming distance perturbation: \n",
    "            # flip the sign on these\n",
    "            hd_query = np.copy(target_pattern)\n",
    "\n",
    "            if pattern_dataset == 'RandUnif':\n",
    "                hd_query[np.random.choice(n,perturb, replace=False)]*=-1\n",
    "            elif pattern_dataset == 'MNIST':\n",
    "                rand_inds = np.random.choice(n,perturb, replace=False)\n",
    "                inds_set_to_zero = rand_inds[(hd_query[rand_inds]>0).flatten()]\n",
    "                inds_set_to_max = rand_inds[(hd_query[rand_inds]==0).flatten()]\n",
    "                hd_query[ inds_set_to_zero ] = 0\n",
    "                hd_query[ inds_set_to_max ] = 254\n",
    "                #query[np.random.choice(n,perturb, replace=False)] = np.random.uniform(0,254,perturb).astype('uint8').reshape(-1,1)\n",
    "\n",
    "            # ensuring that the query is still closest to the target pattern in similarity and hamming distance. \n",
    "            if check_if_target_still_closest:\n",
    "                assert np.argmax( raw_patterns_flat.T@ hd_query ) == target_pattern_ind, 'original pattern is no longer the best match'\n",
    "                assert np.argmin( cdist( (raw_patterns_flat>0).astype(bool).T, \n",
    "                                        (hd_query>0).astype(int).T, metric='hamming')*n  ) == target_pattern_ind, \\\n",
    "                                            'hamming original pattern is no longer the best match'\n",
    "            else: \n",
    "                pattern_dists = cdist( (raw_patterns_flat>0).astype(bool).T, \n",
    "                                        (hd_query>0).astype(int).T, metric='hamming')*n\n",
    "                closest_pattern_ind = np.argmin( pattern_dists  )\n",
    "                closest_distance = np.min(pattern_dists)\n",
    "                \n",
    "                '''print('Closest pattern is the original', closest_pattern_ind==target_pattern_ind)\n",
    "                print('closest and target inds', closest_pattern_ind,target_pattern_ind)\n",
    "                print('hamming distance from query to closest pattern', closest_distance)\n",
    "                print('perturb is:', perturb)'''\n",
    "                \n",
    "                target_dist.append(perturb)\n",
    "                closest_dist.append(closest_distance)\n",
    "                same_pattern_class.append( y_labels[closest_pattern_ind]==y_labels[target_pattern_ind]  )\n",
    "                \n",
    "            \n",
    "            ham_dist_queries.append( hd_query )\n",
    "            \n",
    "            ######## Cosine distance perturbation:\n",
    "            cs_perturb = 1-((2*perturb)/n)\n",
    "            \n",
    "            # https://stackoverflow.com/questions/52916699/create-random-vector-given-cosine-similarity\n",
    "            rand_vect = np.random.uniform(-1,1,(n,1))\n",
    "            target_perp = rand_vect - (rand_vect.T@target_pattern)*target_pattern\n",
    "            target_perp = target_perp / np.linalg.norm(target_perp, axis=0)\n",
    "            cs_query = cs_perturb*target_pattern + np.sqrt(1-cs_perturb**2)*target_perp\n",
    "            #elif pattern_dataset == 'MNIST':\n",
    "            '''rand_inds = np.random.choice(n,perturb, replace=False)\n",
    "            inds_set_to_zero = rand_inds[(hd_query[rand_inds]>0).flatten()]\n",
    "            inds_set_to_max = rand_inds[(hd_query[rand_inds]==0).flatten()]\n",
    "            hd_query[ inds_set_to_zero ] = 0\n",
    "            hd_query[ inds_set_to_max ] = 254'''\n",
    "            #print(cs_query.shape, target_pattern.shape)\n",
    "            #print('hamm and cosine distances are:',perturb, cs_perturb, 'cs distance is:', cs_query.T@target_pattern)\n",
    "            \n",
    "            cosine_dist_queries.append(cs_query)\n",
    "            cosine_perturb_amounts.append(cs_perturb)\n",
    "            target_patterns.append( target_pattern )\n",
    "\n",
    "    # for this n the hamming distance is wrong. \n",
    "    print('hdists are:', h_dists)\n",
    "    for h_dist in h_dists: \n",
    "        assert h_dist < n/2, 'need to change h dist.'\n",
    "        \n",
    "    ham_dist_queries = np.asarray(ham_dist_queries)\n",
    "    cosine_dist_queries = np.asarray(cosine_dist_queries)\n",
    "    return raw_patterns_flat, target_patterns, ham_dist_queries, cosine_dist_queries, perturb_hamms, h_dists, image, image_len, (target_dist, closest_dist, same_pattern_class) \n",
    "\n"
   ]
  },
  {
   "cell_type": "code",
   "execution_count": 61,
   "metadata": {},
   "outputs": [],
   "source": [
    "hamm_radius = 290\n",
    "perturb = 50\n",
    "sdm_params.perturb = perturb\n",
    "num_qs = 5"
   ]
  },
  {
   "cell_type": "code",
   "execution_count": 62,
   "metadata": {},
   "outputs": [
    {
     "name": "stdout",
     "output_type": "stream",
     "text": [
      "mnist shape (1024, 1, 28, 28)\n",
      "perturbations are: [0, 50, 100, 150, 200, 250, 300]\n",
      "hdists are: [290, 308, 314, 331, 345, 374]\n"
     ]
    }
   ],
   "source": [
    "raw_patterns_flat, target_patterns, \\\n",
    "ham_dist_queries, cosine_dist_queries, \\\n",
    "perturb_hamms, h_dists, image, \\\n",
    "image_len, info  = generate_dataset(\"MNIST\", n, m, 300, \n",
    "                                    cfracs, 5, n_perturbs=7)\n",
    "\n",
    "dataiter = iter(trainloader)"
   ]
  },
  {
   "cell_type": "code",
   "execution_count": 63,
   "metadata": {},
   "outputs": [
    {
     "data": {
      "text/plain": [
       "35"
      ]
     },
     "execution_count": 63,
     "metadata": {},
     "output_type": "execute_result"
    }
   ],
   "source": [
    "len(cosine_dist_queries)"
   ]
  },
  {
   "cell_type": "code",
   "execution_count": 64,
   "metadata": {},
   "outputs": [
    {
     "data": {
      "text/plain": [
       "array([[0.74489798]])"
      ]
     },
     "execution_count": 64,
     "metadata": {},
     "output_type": "execute_result"
    }
   ],
   "source": [
    "target_patterns[10].T @ cosine_dist_queries[10]"
   ]
  },
  {
   "cell_type": "code",
   "execution_count": 65,
   "metadata": {},
   "outputs": [
    {
     "name": "stdout",
     "output_type": "stream",
     "text": [
      "torch.Size([1024, 1, 28, 28])\n",
      "torch.Size([784, 1024])\n"
     ]
    }
   ],
   "source": [
    "patterns = dataiter.next()\n",
    "\n",
    "if data_name==\"MNIST\": # get rid of the labels\n",
    "    patterns = patterns[0] \n",
    "    print(patterns.shape)\n",
    "    patterns = patterns.flatten(start_dim=1).T.to(device) \n",
    "    print(patterns.shape)\n",
    "    if \"RandUnif\" in data_name:\n",
    "        # make a binary version of the patterns\n",
    "        b_patterns = (patterns>0.0).type(torch.int)\n",
    "    else:\n",
    "        b_patterns = None # MNIST is not working with binary patterns.\n",
    "    norm_patterns = patterns/torch.norm(patterns, dim=0, keepdim=True)\n",
    "    new_c_queries, _ = cosine_perturb_queries(norm_patterns, norm_patterns, sdm_params) \n",
    "    \n",
    "    b_cached_inters , new_log_continuous_cached_intersects = get_binary_and_continuous_caches(n, hamm_radius, \n",
    "                                                       r, sdm_params.cont_cache_resolution)"
   ]
  },
  {
   "cell_type": "code",
   "execution_count": 68,
   "metadata": {},
   "outputs": [
    {
     "name": "stdout",
     "output_type": "stream",
     "text": [
      "num convergence steps 1\n",
      "num convergence steps 1\n",
      "num convergence steps 1\n",
      "num convergence steps 1\n",
      "num convergence steps 1\n",
      "(784, 5) (784, 5)\n",
      "cosine sims are: [0.99878295 0.99820816 0.99686641 0.99606364 0.9999311 ] 0.9979704495889543\n"
     ]
    }
   ],
   "source": [
    "def update_circle_query(P_a, q, cached_intersects, enforce_num_neurons,\n",
    "                            intersect_type='FullBinary', resolution=10000):\n",
    "    \"\"\"\n",
    "    Numpy updating of the query using cached circle intersection values. \n",
    "    This is called by Continuous_SDM, Pattern_SDM and NeuronLimited_Pattern_SDM.\n",
    "    \n",
    "    FullBinary, ContToBinary, FullCont\n",
    "    \n",
    "    \"\"\"\n",
    "    \n",
    "    #n, r, m, h_dist, max_iterations, image_len, print_each_result = params \n",
    "    if intersect_type=='FullBinary':\n",
    "        cache_inds =d(P_a, q, n).astype(int)\n",
    "    elif intersect_type=='ContToBinary':\n",
    "        dotps = P_a.T@q\n",
    "        #print(dotps)\n",
    "        # convert to Hamming distances: \n",
    "        cache_inds = np.round(cosine_to_hamm(dotps, n)).astype(int)\n",
    "        #print(cache_inds)\n",
    "    elif intersect_type=='FullCont':\n",
    "        dotps = P_a.T@q\n",
    "        #plt.hist(dotps.flatten(), bins=50)\n",
    "        #plt.show()\n",
    "        cache_inds = ((resolution/2*(dotps + 1))-1).astype(int)\n",
    "        #print(cache_inds)\n",
    "    else: \n",
    "        raise Exception()\n",
    "        \n",
    "    intersects = cached_intersects[cache_inds]\n",
    "    if enforce_num_neurons: \n",
    "        if intersect_type=='FullCont': # need to use log values\n",
    "            decimals = np.exp(intersects)%1\n",
    "            one_more_neuron_sample = (np.random.uniform(size=(len(intersects),1))<decimals).astype(float)\n",
    "            intersects = np.log(np.floor(np.exp(intersects))+one_more_neuron_sample) # need to enforce hard cutoff. \n",
    "        else: \n",
    "            decimals = intersects%1\n",
    "            one_more_neuron_sample = (np.random.uniform(size=(len(intersects),1))<decimals).astype(float)\n",
    "            intersects = np.floor(intersects)+one_more_neuron_sample # need to enforce hard cutoff. \n",
    "    \n",
    "    \n",
    "    # any intersect that is 0 needs to be ignored to avoid nan errors. the query should just not update at all\n",
    "    #if np.exp(intersects).sum()==0.0:\n",
    "    #    return q, None\n",
    "    \n",
    "    #print(np.exp(intersects).sum(), 'sum of intersects')\n",
    "    \n",
    "    # get pattern weightings\n",
    "    if intersect_type=='FullCont': \n",
    "        # needed as intersects are in log space. \n",
    "        unnorm = None #TODO: implement this plotting function if needed.\n",
    "        res = (np.exp(intersects.T) * P_a).sum(axis=1)/np.exp(intersects).sum()\n",
    "    else: \n",
    "        res = (intersects.T * P_a).sum(axis=1) # broadcasting\n",
    "        unnorm = np.copy(res)\n",
    "        res = res/intersects.sum()\n",
    "        # binarizing.\n",
    "    if intersect_type=='FullBinary':   \n",
    "        res = g(res)\n",
    "    return res, unnorm\n",
    "\n",
    "sdm_params.hamm_radius=hamm_radius\n",
    "sdm_params.perturb=perturb\n",
    "binary_data=False\n",
    "\n",
    "renorm_query = True\n",
    "enforce_num_neurons = False\n",
    "\n",
    "old_dataset = False\n",
    "old_algo = True\n",
    "\n",
    "if old_dataset: \n",
    "    c_patterns = raw_patterns_flat \n",
    "    c_targets = np.asarray(target_patterns[10:15]).reshape(num_qs, -1).T\n",
    "    c_queries = np.asarray(cosine_dist_queries[10:15]).reshape(num_qs, -1).T\n",
    "    print('old d', c_queries.shape)\n",
    "    \n",
    "else:\n",
    "    c_patterns = norm_patterns.cpu().numpy()\n",
    "    c_queries = new_c_queries.cpu().numpy()\n",
    "    c_targets = c_patterns[:,:num_qs]\n",
    "                    \n",
    "# get this query to converge:\n",
    "\n",
    "resolution = 10000\n",
    "cs_intervals = np.linspace(-1,1,resolution).astype(float)\n",
    "cs_intervals[-1] = cs_intervals[-1] - 1e-15\n",
    "\n",
    "if enforce_num_neurons: \n",
    "    log_continuous_cached_intersects = cap_intersection(n, cs_intervals, hamm_radius, r, \n",
    "                                                    return_log=True,\n",
    "                                                    ham_input=False, print_oobs=False)\n",
    "else: \n",
    "    log_continuous_cached_intersects = cap_intersection(n, cs_intervals, hamm_radius, r, \n",
    "                                                    return_log=True,\n",
    "                                                    ham_input=False, print_oobs=False)\n",
    "\n",
    "\n",
    "converged_queries = []\n",
    "\n",
    "for query_ind in range(num_qs):\n",
    "    #print(\"processing query number:\", query_ind)\n",
    "    query = np.copy(c_queries[:,query_ind]).reshape(-1,1)\n",
    "\n",
    "    bits_changed = 100 # placeholder to be able to track convergence.\n",
    "    i = 0\n",
    "    while bits_changed > 0 and i<sdm_params.max_conv_steps:\n",
    "        \n",
    "        if old_algo: \n",
    "\n",
    "            new_query, pre_bin = update_circle_query(c_patterns, \n",
    "                                                     query, log_continuous_cached_intersects,  \n",
    "                                                         enforce_num_neurons, \n",
    "                                                         intersect_type=\"FullCont\", resolution=resolution)\n",
    "        \n",
    "        else: \n",
    "            new_query = update_using_cache(torch.Tensor(c_patterns).to(device), torch.Tensor(c_patterns).to(device), \n",
    "                                        torch.Tensor(new_log_continuous_cached_intersects.astype(float)).to(device), enforce_num_neurons,\n",
    "                            \"FullCont\", device, torch.Tensor(query).to(device), full_dim_queries = None)\n",
    "            new_query = new_query.cpu().numpy()\n",
    "        \n",
    "        \n",
    "        new_query = new_query.reshape(-1, 1)\n",
    "        #print(query, new_query)\n",
    "        epsilon = 0.05\n",
    "        bits_agree = np.logical_and(query-epsilon < new_query , \n",
    "                             query+epsilon > new_query).sum()\n",
    "        bits_changed = n-bits_agree\n",
    "        query=new_query\n",
    "        i+=1\n",
    "        \n",
    "        if renorm_query:\n",
    "            query = query/np.linalg.norm(query)\n",
    "\n",
    "    converged_queries.append(query)\n",
    "    print('num convergence steps', i)\n",
    "\n",
    "converged_queries = np.asarray(converged_queries).reshape(num_qs, -1).T\n",
    "\n",
    "print(converged_queries.shape,c_queries[:,:num_qs].shape )\n",
    "\n",
    "if binary_data:\n",
    "    cosine_sims = hamm_to_cosine( (converged_queries!=c_patterns).sum(0), n_base ).cpu().detach().numpy()\n",
    "else:\n",
    "    cosine_sims = (converged_queries/np.linalg.norm(converged_queries, axis=0)*c_targets/np.linalg.norm(c_targets, axis=0)).sum(0)\n",
    "print(\"cosine sims are:\", cosine_sims, sum(cosine_sims)/len(cosine_sims))\n"
   ]
  },
  {
   "cell_type": "code",
   "execution_count": 67,
   "metadata": {},
   "outputs": [
    {
     "data": {
      "image/png": "[encoded data removed]",
      "text/plain": [
       "<Figure size 432x288 with 1 Axes>"
      ]
     },
     "metadata": {
      "needs_background": "light"
     },
     "output_type": "display_data"
    },
    {
     "name": "stdout",
     "output_type": "stream",
     "text": [
      "perturb amount 0.87244904\n"
     ]
    },
    {
     "data": {
      "image/png": "[encoded data removed]",
      "text/plain": [
       "<Figure size 432x288 with 1 Axes>"
      ]
     },
     "metadata": {
      "needs_background": "light"
     },
     "output_type": "display_data"
    },
    {
     "data": {
      "image/png": "[encoded data removed]",
      "text/plain": [
       "<Figure size 432x288 with 1 Axes>"
      ]
     },
     "metadata": {
      "needs_background": "light"
     },
     "output_type": "display_data"
    }
   ],
   "source": [
    "plt.imshow(c_targets[:,0].reshape(image_len, image_len))\n",
    "plt.show()\n",
    "print('perturb amount', c_targets[:,0].T@c_queries[:,0])\n",
    "plt.imshow(c_queries[:,0].reshape(image_len, image_len))\n",
    "plt.show()\n",
    "plt.imshow(converged_queries[:,0].reshape(image_len, image_len))\n",
    "plt.show()"
   ]
  },
  {
   "cell_type": "code",
   "execution_count": null,
   "metadata": {},
   "outputs": [],
   "source": []
  },
  {
   "cell_type": "code",
   "execution_count": null,
   "metadata": {},
   "outputs": [],
   "source": []
  }
 ],
 "metadata": {
  "kernelspec": {
   "display_name": "Python 3",
   "language": "python",
   "name": "python3"
  },
  "language_info": {
   "codemirror_mode": {
    "name": "ipython",
    "version": 3
   },
   "file_extension": ".py",
   "mimetype": "text/x-python",
   "name": "python",
   "nbconvert_exporter": "python",
   "pygments_lexer": "ipython3",
   "version": "3.7.5"
  }
 },
 "nbformat": 4,
 "nbformat_minor": 4
}
