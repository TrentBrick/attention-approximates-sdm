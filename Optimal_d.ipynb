{
 "cells": [
  {
   "cell_type": "markdown",
   "metadata": {},
   "source": [
    "## Summary \n",
    "\n",
    "Author: Trenton Bricken\n",
    "\n",
    "Computing the Signal to Noise Ratio Optimal Hamming Distance."
   ]
  },
  {
   "cell_type": "code",
   "execution_count": 1,
   "metadata": {},
   "outputs": [],
   "source": [
    "%load_ext autoreload\n",
    "%autoreload 2\n",
    "import numpy as np\n",
    "import matplotlib.pyplot as plt\n",
    "from scipy.stats import binom, norm\n",
    "from scipy.sparse import csc_matrix, coo_matrix, csr_matrix\n",
    "import pandas as pd\n",
    "from scipy.integrate import quad\n",
    "import time\n",
    "from numpy import sqrt as sqrt\n",
    "from SDM_Circ_Inter_Funcs import *\n",
    "from Implementations_Associative_Memory import softmax"
   ]
  },
  {
   "cell_type": "code",
   "execution_count": 2,
   "metadata": {},
   "outputs": [],
   "source": [
    "n = 64#1000\n",
    "r = 2**n#10**18#2**n#1000000\n",
    "m=60000#24"
   ]
  },
  {
   "cell_type": "code",
   "execution_count": 3,
   "metadata": {},
   "outputs": [
    {
     "data": {
      "text/plain": [
       "20"
      ]
     },
     "execution_count": 3,
     "metadata": {},
     "output_type": "execute_result"
    }
   ],
   "source": [
    "len(str(2**n))"
   ]
  },
  {
   "cell_type": "markdown",
   "metadata": {},
   "source": [
    "# SNR Optimal"
   ]
  },
  {
   "cell_type": "code",
   "execution_count": 4,
   "metadata": {},
   "outputs": [
    {
     "name": "stdout",
     "output_type": "stream",
     "text": [
      "Optimal p 7.673020240510549e-09\n",
      "Optimal d [10]\n"
     ]
    }
   ],
   "source": [
    "optimal_p = 1/(2*m*r)**(1/3)\n",
    "print('Optimal p', optimal_p)\n",
    "print('Optimal d', space_frac_to_hamm_dist(n, [optimal_p]))"
   ]
  },
  {
   "cell_type": "markdown",
   "metadata": {},
   "source": [
    "# Memory Capacity Optimal"
   ]
  },
  {
   "cell_type": "code",
   "execution_count": 5,
   "metadata": {},
   "outputs": [
    {
     "name": "stdout",
     "output_type": "stream",
     "text": [
      "z score per bit 2.298313131383402\n",
      "Optimal p 1.979930592478041e-13\n",
      "Optimal d [5]\n"
     ]
    }
   ],
   "source": [
    "def memory_derivative(z,r):\n",
    "    return 1/2*(z**4/(2*r**4*z**2 + r**3*z**6 + 2*sqrt(r**8*z**4 + r**7*z**8))**(1/3) + (2*r**4*z**2+ r**3*z**6 + 2*sqrt(r**8*z**4 + r**7 *z**8))**(1/3)/r**2 + z**2/r)\n",
    "\n",
    "# z_score so the overall retrieval is 99%\n",
    "prob_retrieval_of_whole_pattern = 0.5\n",
    "prob_per_bit = prob_retrieval_of_whole_pattern**(1/n)\n",
    "z_score_per_bit = norm.ppf(prob_per_bit)\n",
    "print('z score per bit', z_score_per_bit)\n",
    "#z = 2.33 # z-score\n",
    "\n",
    "optimal_p =  memory_derivative(z_score_per_bit,r)\n",
    "print('Optimal p', optimal_p)\n",
    "print('Optimal d', space_frac_to_hamm_dist(n, [optimal_p]))"
   ]
  },
  {
   "cell_type": "code",
   "execution_count": null,
   "metadata": {},
   "outputs": [],
   "source": []
  },
  {
   "cell_type": "markdown",
   "metadata": {},
   "source": [
    "## Memory capacity derivation"
   ]
  },
  {
   "cell_type": "code",
   "execution_count": 56,
   "metadata": {},
   "outputs": [],
   "source": [
    "from sympy import *\n",
    "p, m, r, z = symbols('p m r z')\n",
    "init_printing(use_unicode=True)\n"
   ]
  },
  {
   "cell_type": "code",
   "execution_count": 25,
   "metadata": {},
   "outputs": [
    {
     "data": {
      "image/png": "[encoded data removed]",
      "text/latex": [
       "$\\displaystyle \\frac{\\frac{p^{2} r^{2}}{z^{2}} - p r}{p^{4} r^{2} + p^{2} r}$"
      ],
      "text/plain": [
       " 2  2       \n",
       "p ⋅r        \n",
       "───── - p⋅r \n",
       "   2        \n",
       "  z         \n",
       "────────────\n",
       " 4  2    2  \n",
       "p ⋅r  + p ⋅r"
      ]
     },
     "execution_count": 25,
     "metadata": {},
     "output_type": "execute_result"
    }
   ],
   "source": [
    "eq = ( (p*r)**2/z**2 - p*r )/( p**2*r + (p**2*r)**2 )\n",
    "eq"
   ]
  },
  {
   "cell_type": "code",
   "execution_count": 42,
   "metadata": {},
   "outputs": [
    {
     "name": "stdout",
     "output_type": "stream",
     "text": [
      "0.00014563484775012504\n"
     ]
    },
    {
     "data": {
      "image/png": "[encoded data removed]",
      "text/latex": [
       "$\\displaystyle \\left( 0, \\  173650.86069380387\\right)$"
      ],
      "text/plain": [
       "(0, 173650.86069380387)"
      ]
     },
     "execution_count": 42,
     "metadata": {},
     "output_type": "execute_result"
    },
    {
     "data": {
      "image/png": "[encoded data removed]",
      "text/plain": [
       "<Figure size 432x288 with 1 Axes>"
      ]
     },
     "metadata": {
      "needs_background": "light"
     },
     "output_type": "display_data"
    }
   ],
   "source": [
    "def memory_capacity_equation(z,r,p):\n",
    "    return ( (p*r)**2/z**2 - p*r )/( p**2*r + (p**2*r)**2 ) +1\n",
    "\n",
    "r = 1000000\n",
    "z = 2.33\n",
    "p = np.logspace(-20,-2)\n",
    "res = og_eq(z,r,p)\n",
    "plt.plot(p, res)\n",
    "print(p[np.argmax(res)])\n",
    "plt.xscale('log')\n",
    "plt.ylim(bottom=0, top = np.max(res))"
   ]
  },
  {
   "cell_type": "code",
   "execution_count": 57,
   "metadata": {},
   "outputs": [
    {
     "data": {
      "image/png": "[encoded data removed]",
      "text/latex": [
       "$\\displaystyle \\frac{0.5 z^{4}}{\\left(2 r^{4} z^{2} + r^{3} z^{6} + 2 \\sqrt{r^{8} z^{4} + r^{7} z^{8}}\\right)^{0.333333333333333}} + \\frac{0.5 z^{2}}{r} + \\frac{0.5 \\left(2 r^{4} z^{2} + r^{3} z^{6} + 2 \\sqrt{r^{8} z^{4} + r^{7} z^{8}}\\right)^{0.333333333333333}}{r^{2}}$"
      ],
      "text/plain": [
       "                                                                              \n",
       "                                               -0.333333333333333             \n",
       "       ⎛                       _______________⎞                          2    \n",
       "     4 ⎜   4  2    3  6       ╱  8  4    7  8 ⎟                     0.5⋅z    0\n",
       "0.5⋅z ⋅⎝2⋅r ⋅z  + r ⋅z  + 2⋅╲╱  r ⋅z  + r ⋅z  ⎠                   + ────── + ─\n",
       "                                                                      r       \n",
       "                                                                              \n",
       "\n",
       "                                           0.333333333333333\n",
       "   ⎛                       _______________⎞                 \n",
       "   ⎜   4  2    3  6       ╱  8  4    7  8 ⎟                 \n",
       ".5⋅⎝2⋅r ⋅z  + r ⋅z  + 2⋅╲╱  r ⋅z  + r ⋅z  ⎠                 \n",
       "────────────────────────────────────────────────────────────\n",
       "                              2                             \n",
       "                             r                              "
      ]
     },
     "execution_count": 57,
     "metadata": {},
     "output_type": "execute_result"
    }
   ],
   "source": [
    " 1/2*(z**4/(2*r**4*z**2 + r**3*z**6 + 2*sqrt(r**8*z**4 + r**7*z**8))**(1/3) + (2*r**4*z**2+ r**3*z**6 + 2*sqrt(r**8*z**4 + r**7 *z**8))**(1/3)/r**2 + z**2/r)"
   ]
  },
  {
   "cell_type": "code",
   "execution_count": 58,
   "metadata": {},
   "outputs": [
    {
     "data": {
      "image/png": "[encoded data removed]",
      "text/latex": [
       "$\\displaystyle 1.39767608017285 \\cdot 10^{-6}$"
      ],
      "text/plain": [
       "1.39767608017285e-6"
      ]
     },
     "execution_count": 58,
     "metadata": {},
     "output_type": "execute_result"
    }
   ],
   "source": [
    "# https://www.wolframalpha.com/input/?i=0+%3D++%28-2+r%5E2+x%5E3+%2B+3+r+x%5E2+z%5E2+%2B+z%5E2%29%2F%28x%5E2+z%5E2+%28r+x%5E2+%2B+1%29%5E2%29+solve+for+x\n",
    "\n",
    "\n",
    "def wolf_deriv(z,r):\n",
    "    return 1/2*(z**4/(2*r**4*z**2 + r**3*z**6 + 2*sqrt(r**8*z**4 + r**7*z**8))**(1/3) + (2*r**4*z**2+ r**3*z**6 + 2*sqrt(r**8*z**4 + r**7 *z**8))**(1/3)/r**2 + z**2/r)\n",
    "z = 2.33\n",
    "r = 1000000000\n",
    "\n",
    "wolf_deriv(z, r)"
   ]
  },
  {
   "cell_type": "code",
   "execution_count": 11,
   "metadata": {},
   "outputs": [
    {
     "data": {
      "image/png": "[encoded data removed]",
      "text/latex": [
       "$\\displaystyle \\frac{- 2 p^{3} r^{2} + 3 p^{2} r z^{2} + z^{2}}{p^{2} z^{2} \\left(p^{2} r + 1\\right)^{2}}$"
      ],
      "text/plain": [
       "     3  2      2    2    2\n",
       "- 2⋅p ⋅r  + 3⋅p ⋅r⋅z  + z \n",
       "──────────────────────────\n",
       "                    2     \n",
       "     2  2 ⎛ 2      ⎞      \n",
       "    p ⋅z ⋅⎝p ⋅r + 1⎠      "
      ]
     },
     "execution_count": 11,
     "metadata": {},
     "output_type": "execute_result"
    }
   ],
   "source": [
    "# derivative of memory equation: https://www.wolframalpha.com/input/?i=differentiate+%28+%28xr%29%5E2%2Fz%5E2+-+xr+%29%2F%28+x%5E2r+%2B+%28x%5E2r%29%5E2+%29++wrt+x\n",
    "d1 = (-2 * r**2 * p**3 + 3*r*p**2 *z**2 + z**2)/(p**2 *z**2 *(r* p**2 + 1)**2)\n",
    "d1"
   ]
  },
  {
   "cell_type": "code",
   "execution_count": 51,
   "metadata": {},
   "outputs": [
    {
     "name": "stdout",
     "output_type": "stream",
     "text": [
      "1e-08\n"
     ]
    },
    {
     "data": {
      "text/plain": [
       "array([ 1.00000000e+16,  5.68986603e+15,  3.23745754e+15,  1.84206997e+15,\n",
       "        1.04811314e+15,  5.96362333e+14,  3.39322178e+14,  1.93069774e+14,\n",
       "        1.09854115e+14,  6.25055202e+13,  3.55648040e+13,  2.02358974e+13,\n",
       "        1.15139549e+13,  6.55128642e+12,  3.72759453e+12,  2.12095163e+12,\n",
       "        1.20679331e+12,  6.86649400e+11,  3.90694404e+11,  2.22299867e+11,\n",
       "        1.26485486e+11,  7.19681941e+10,  4.09483301e+10,  2.32981047e+10,\n",
       "        1.32549143e+10,  7.53987906e+09,  4.28731288e+09,  2.43560309e+09,\n",
       "        1.38062453e+09,  7.78531587e+08,  4.33544082e+08,  2.34095073e+08,\n",
       "        1.16502334e+08,  4.43180502e+07, -3.35903493e+06, -3.83847179e+07,\n",
       "       -6.69673790e+07, -9.11278292e+07, -1.09139918e+08, -1.16383456e+08,\n",
       "       -1.08549422e+08, -8.67902204e+07, -5.91886253e+07, -3.49900346e+07,\n",
       "       -1.84871879e+07, -9.02452295e+06, -4.18409690e+06, -1.87914494e+06,\n",
       "       -8.28057107e+05, -3.60844775e+05])"
      ]
     },
     "execution_count": 51,
     "metadata": {},
     "output_type": "execute_result"
    },
    {
     "data": {
      "image/png": "[encoded data removed]",
      "text/plain": [
       "<Figure size 432x288 with 1 Axes>"
      ]
     },
     "metadata": {
      "needs_background": "light"
     },
     "output_type": "display_data"
    }
   ],
   "source": [
    "def derivative_eq(z,r,p):\n",
    "    return (-2 * r**2 * p**3 + 3*r*p**2 *z**2 + z**2)/(p**2 *z**2 *(r* p**2 + 1)**2)\n",
    "\n",
    "r = 1000000\n",
    "z = 2.33\n",
    "p = np.logspace(-8,-2)\n",
    "res = derivative_eq(z,r,p)\n",
    "plt.plot(p, res)\n",
    "print(p[np.argmax(res)])\n",
    "plt.xscale('log')\n",
    "res\n",
    "#plt.ylim(bottom=0, top = 100)"
   ]
  },
  {
   "cell_type": "code",
   "execution_count": 60,
   "metadata": {},
   "outputs": [
    {
     "data": {
      "image/png": "[encoded data removed]",
      "text/latex": [
       "$\\displaystyle 0.004171095963311983$"
      ],
      "text/plain": [
       "0.004171095963311983"
      ]
     },
     "execution_count": 60,
     "metadata": {},
     "output_type": "execute_result"
    }
   ],
   "source": [
    "derivative_eq(z,r,1.39767608017285*10**(-6))"
   ]
  },
  {
   "cell_type": "markdown",
   "metadata": {},
   "source": [
    "## SNR Derivation and misc"
   ]
  },
  {
   "cell_type": "code",
   "execution_count": 48,
   "metadata": {},
   "outputs": [
    {
     "data": {
      "image/png": "[encoded data removed]",
      "text/latex": [
       "$\\displaystyle \\frac{p r}{m p^{3} r + m p + 1}$"
      ],
      "text/plain": [
       "      p⋅r       \n",
       "────────────────\n",
       "   3            \n",
       "m⋅p ⋅r + m⋅p + 1"
      ]
     },
     "execution_count": 48,
     "metadata": {},
     "output_type": "execute_result"
    }
   ],
   "source": [
    "\n",
    "eq = ((p*r)/(1+p*m+p**3*m*r))\n",
    "eq"
   ]
  },
  {
   "cell_type": "code",
   "execution_count": 49,
   "metadata": {},
   "outputs": [
    {
     "data": {
      "image/png": "[encoded data removed]",
      "text/latex": [
       "$\\displaystyle \\frac{p r \\left(- 3 m p^{2} r - m\\right)}{\\left(m p^{3} r + m p + 1\\right)^{2}} + \\frac{r}{m p^{3} r + m p + 1}$"
      ],
      "text/plain": [
       "    ⎛       2      ⎞                   \n",
       "p⋅r⋅⎝- 3⋅m⋅p ⋅r - m⎠          r        \n",
       "──────────────────── + ────────────────\n",
       "                  2       3            \n",
       "⎛   3            ⎞     m⋅p ⋅r + m⋅p + 1\n",
       "⎝m⋅p ⋅r + m⋅p + 1⎠                     "
      ]
     },
     "execution_count": 49,
     "metadata": {},
     "output_type": "execute_result"
    }
   ],
   "source": [
    "\n",
    "res = diff( eq , p)\n",
    "res"
   ]
  },
  {
   "cell_type": "code",
   "execution_count": 52,
   "metadata": {},
   "outputs": [
    {
     "data": {
      "image/png": "[encoded data removed]",
      "text/latex": [
       "$\\displaystyle 0 = \\frac{- 2 m p^{3} r^{2} + r}{\\left(m p^{3} r + m p + 1\\right)^{2}}$"
      ],
      "text/plain": [
       "             3  2      \n",
       "      - 2⋅m⋅p ⋅r  + r  \n",
       "0 = ───────────────────\n",
       "                      2\n",
       "    ⎛   3            ⎞ \n",
       "    ⎝m⋅p ⋅r + m⋅p + 1⎠ "
      ]
     },
     "execution_count": 52,
     "metadata": {},
     "output_type": "execute_result"
    }
   ],
   "source": [
    "s = Eq(0, (r-2*p**3*m*r**2)/( (1+p*m+p**3 *m*r)**2 ))\n",
    "s"
   ]
  },
  {
   "cell_type": "code",
   "execution_count": 57,
   "metadata": {},
   "outputs": [
    {
     "data": {
      "image/png": "[encoded data removed]",
      "text/latex": [
       "$\\displaystyle \\frac{2^{\\frac{2}{3}} \\sqrt[3]{\\frac{1}{m r}}}{2}$"
      ],
      "text/plain": [
       "         _____\n",
       " 2/3    ╱  1  \n",
       "2   ⋅3 ╱  ─── \n",
       "     ╲╱   m⋅r \n",
       "──────────────\n",
       "      2       "
      ]
     },
     "execution_count": 57,
     "metadata": {},
     "output_type": "execute_result"
    }
   ],
   "source": [
    "p_res = solve(s,p)[0]\n",
    "p_res"
   ]
  },
  {
   "cell_type": "code",
   "execution_count": 59,
   "metadata": {},
   "outputs": [
    {
     "data": {
      "image/png": "[encoded data removed]",
      "text/latex": [
       "$\\displaystyle \\left[ \\left\\{ m : \\frac{1}{2 p^{3} r}\\right\\}, \\  \\left\\{ r : 0\\right\\}\\right]$"
      ],
      "text/plain": [
       "⎡⎧     1   ⎫        ⎤\n",
       "⎢⎪m: ──────⎪, {r: 0}⎥\n",
       "⎢⎨      3  ⎬        ⎥\n",
       "⎢⎪   2⋅p ⋅r⎪        ⎥\n",
       "⎣⎩         ⎭        ⎦"
      ]
     },
     "execution_count": 59,
     "metadata": {},
     "output_type": "execute_result"
    }
   ],
   "source": [
    "solve(res,p=p_res)"
   ]
  },
  {
   "cell_type": "code",
   "execution_count": 250,
   "metadata": {},
   "outputs": [
    {
     "data": {
      "text/plain": [
       "0.0017099759466766974"
      ]
     },
     "execution_count": 250,
     "metadata": {},
     "output_type": "execute_result"
    }
   ],
   "source": [
    "\n",
    "m=100\n",
    "r=1000000\n",
    "\n",
    "2**(2/3)*(1/(m*r))**(1/3)/2"
   ]
  },
  {
   "cell_type": "code",
   "execution_count": 163,
   "metadata": {},
   "outputs": [
    {
     "data": {
      "text/plain": [
       "457.0"
      ]
     },
     "execution_count": 163,
     "metadata": {},
     "output_type": "execute_result"
    }
   ],
   "source": [
    "binom.ppf(0.0035, 1000, 0.5)"
   ]
  },
  {
   "cell_type": "code",
   "execution_count": 158,
   "metadata": {},
   "outputs": [
    {
     "data": {
      "text/plain": [
       "0.01798620996209156"
      ]
     },
     "execution_count": 158,
     "metadata": {},
     "output_type": "execute_result"
    }
   ],
   "source": [
    "np.epp(-1)/(np.epp(-1)+np.epp(3))"
   ]
  },
  {
   "cell_type": "code",
   "execution_count": 63,
   "metadata": {},
   "outputs": [
    {
     "data": {
      "image/png": "[encoded data removed]",
      "text/latex": [
       "$\\displaystyle 8.999999999999998$"
      ],
      "text/plain": [
       "8.999999999999998"
      ]
     },
     "execution_count": 63,
     "metadata": {},
     "output_type": "execute_result"
    }
   ],
   "source": [
    "27**(2/3)"
   ]
  },
  {
   "cell_type": "code",
   "execution_count": 154,
   "metadata": {},
   "outputs": [
    {
     "data": {
      "text/plain": [
       "[<matplotlib.lines.Line2D at 0x7faf128f25d0>]"
      ]
     },
     "execution_count": 154,
     "metadata": {},
     "output_type": "execute_result"
    },
    {
     "data": {
      "image/png": "[encoded data removed]",
      "text/plain": [
       "<Figure size 432x288 with 1 Axes>"
      ]
     },
     "metadata": {
      "needs_background": "light"
     },
     "output_type": "display_data"
    }
   ],
   "source": [
    "m=np.linspace(100,1024, 100)\n",
    "rs = 2**64#np.linspace(10000, 10000000000000, 100)\n",
    "pvals = 1/(2*m*rs)**(1/3)\n",
    "hamm_vals = space_frac_to_hamm_dist(n, pvals)\n",
    "plt.plot(m, hamm_vals)\n",
    "#plt.yscale('log')"
   ]
  }
 ],
 "metadata": {
  "kernelspec": {
   "display_name": "Python 3",
   "language": "python",
   "name": "python3"
  },
  "language_info": {
   "codemirror_mode": {
    "name": "ipython",
    "version": 3
   },
   "file_extension": ".py",
   "mimetype": "text/x-python",
   "name": "python",
   "nbconvert_exporter": "python",
   "pygments_lexer": "ipython3",
   "version": "3.8.3"
  }
 },
 "nbformat": 4,
 "nbformat_minor": 4
}
